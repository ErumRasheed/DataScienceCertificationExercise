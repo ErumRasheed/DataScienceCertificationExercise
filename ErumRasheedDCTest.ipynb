{
 "cells": [
  {
   "cell_type": "code",
   "execution_count": 1,
   "id": "54ae2374-7587-4c9f-9625-bd047779c1e6",
   "metadata": {},
   "outputs": [],
   "source": [
    "#Data Science Tools and Ecosystem\n",
    "#In this notebook, Data Science Tools and Ecosystem are summarised \n"
   ]
  },
  {
   "cell_type": "markdown",
   "id": "6c7acea6-fc17-4460-b9b0-77299b8613fc",
   "metadata": {},
   "source": [
    "#some of the popular languages thaqt Data Scientists use are:\n",
    "1. Python\n",
    "2. R\n",
    "3. Julia "
   ]
  },
  {
   "cell_type": "markdown",
   "id": "6b05d787-b2dd-489a-865c-bcec196bc83b",
   "metadata": {},
   "source": [
    "Some of the commonly used libraroes used by Data Scientists include:\n",
    "1. Padas\n",
    "2. NumPy\n",
    "3. Matplotlib"
   ]
  },
  {
   "cell_type": "code",
   "execution_count": 2,
   "id": "d7cc2966-a7c1-4358-acb4-7cc117f25150",
   "metadata": {},
   "outputs": [],
   "source": [
    "### Below are a few examples of evaluating arithmetic expressions in Python."
   ]
  },
  {
   "cell_type": "code",
   "execution_count": 3,
   "id": "066aeda4-0a9f-4353-9bc0-f9dab65f64b7",
   "metadata": {},
   "outputs": [
    {
     "data": {
      "text/plain": [
       "17"
      ]
     },
     "execution_count": 3,
     "metadata": {},
     "output_type": "execute_result"
    }
   ],
   "source": [
    "# this is a simple arithmetioc expression to multiply then add integers\n",
    "(3*4)+5"
   ]
  },
  {
   "cell_type": "code",
   "execution_count": 4,
   "id": "aa446f40-fdfb-4791-8e76-56ea39b02371",
   "metadata": {},
   "outputs": [
    {
     "data": {
      "text/plain": [
       "3.3333333333333335"
      ]
     },
     "execution_count": 4,
     "metadata": {},
     "output_type": "execute_result"
    }
   ],
   "source": [
    "# this will convert 200 minutes to hours by dividing by 60\n",
    "(200/60)"
   ]
  },
  {
   "cell_type": "markdown",
   "id": "b51a1639-ef42-4d01-a0d2-c93e3a91452c",
   "metadata": {},
   "source": [
    "**Objectives:**\r\n",
    "\r\n",
    "- Understand and create arithmetic expressions in Python.\r\n",
    "- Explore commonly used languages and libraries in Data Science.\r\n",
    "- Learn how to structure and format content in Markdown cells.\r\n",
    "- Gain familiarity with Jupyter Notebook features and functionality.\r\n",
    "- Practice creating and organizing content in a Jupyter Notebook.\r\n"
   ]
  },
  {
   "cell_type": "markdown",
   "id": "ba70bfcd-e240-4ab7-97eb-e5d5c9d820e6",
   "metadata": {},
   "source": [
    "## Author \n",
    "Erum Rasheed"
   ]
  },
  {
   "cell_type": "code",
   "execution_count": null,
   "id": "4b2f9f5c-228e-46d0-a597-7ebfe9b27bcd",
   "metadata": {},
   "outputs": [],
   "source": []
  }
 ],
 "metadata": {
  "kernelspec": {
   "display_name": "Python 3 (ipykernel)",
   "language": "python",
   "name": "python3"
  },
  "language_info": {
   "codemirror_mode": {
    "name": "ipython",
    "version": 3
   },
   "file_extension": ".py",
   "mimetype": "text/x-python",
   "name": "python",
   "nbconvert_exporter": "python",
   "pygments_lexer": "ipython3",
   "version": "3.11.5"
  }
 },
 "nbformat": 4,
 "nbformat_minor": 5
}
